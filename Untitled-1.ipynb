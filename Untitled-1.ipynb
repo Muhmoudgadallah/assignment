{
    "cells": [
        {
            "cell_type": "code",
            "execution_count": 57,
            "source": [
                "import matplotlib.pyplot as plt\r\n",
                "import pandas as pd\r\n",
                "import numpy as np\r\n",
                "%matplotlib inline"
            ],
            "outputs": [],
            "metadata": {}
        },
        {
            "cell_type": "code",
            "execution_count": 70,
            "source": [
                "train_data=pd.read_csv('loan_train.csv')\r\n",
                "test_data=pd.read_csv('loan_test.csv')\r\n",
                "data_x = train_data[['Principal','terms','age','Gender','education']]\r\n",
                "data_y = train_data[['loan_status']]\r\n",
                "x_test = test_data[['Principal','terms','age','Gender','education']]\r\n",
                "y_test = test_data[['loan_status']]\r\n",
                "data_x.head()"
            ],
            "outputs": [
                {
                    "output_type": "execute_result",
                    "data": {
                        "text/plain": [
                            "   Principal  terms  age  Gender             education\n",
                            "0       1000     30   45    male  High School or Below\n",
                            "1       1000     30   33  female              Bechalor\n",
                            "2       1000     15   27    male               college\n",
                            "3       1000     30   28  female               college\n",
                            "4       1000     30   29    male               college"
                        ],
                        "text/html": [
                            "<div>\n",
                            "<style scoped>\n",
                            "    .dataframe tbody tr th:only-of-type {\n",
                            "        vertical-align: middle;\n",
                            "    }\n",
                            "\n",
                            "    .dataframe tbody tr th {\n",
                            "        vertical-align: top;\n",
                            "    }\n",
                            "\n",
                            "    .dataframe thead th {\n",
                            "        text-align: right;\n",
                            "    }\n",
                            "</style>\n",
                            "<table border=\"1\" class=\"dataframe\">\n",
                            "  <thead>\n",
                            "    <tr style=\"text-align: right;\">\n",
                            "      <th></th>\n",
                            "      <th>Principal</th>\n",
                            "      <th>terms</th>\n",
                            "      <th>age</th>\n",
                            "      <th>Gender</th>\n",
                            "      <th>education</th>\n",
                            "    </tr>\n",
                            "  </thead>\n",
                            "  <tbody>\n",
                            "    <tr>\n",
                            "      <th>0</th>\n",
                            "      <td>1000</td>\n",
                            "      <td>30</td>\n",
                            "      <td>45</td>\n",
                            "      <td>male</td>\n",
                            "      <td>High School or Below</td>\n",
                            "    </tr>\n",
                            "    <tr>\n",
                            "      <th>1</th>\n",
                            "      <td>1000</td>\n",
                            "      <td>30</td>\n",
                            "      <td>33</td>\n",
                            "      <td>female</td>\n",
                            "      <td>Bechalor</td>\n",
                            "    </tr>\n",
                            "    <tr>\n",
                            "      <th>2</th>\n",
                            "      <td>1000</td>\n",
                            "      <td>15</td>\n",
                            "      <td>27</td>\n",
                            "      <td>male</td>\n",
                            "      <td>college</td>\n",
                            "    </tr>\n",
                            "    <tr>\n",
                            "      <th>3</th>\n",
                            "      <td>1000</td>\n",
                            "      <td>30</td>\n",
                            "      <td>28</td>\n",
                            "      <td>female</td>\n",
                            "      <td>college</td>\n",
                            "    </tr>\n",
                            "    <tr>\n",
                            "      <th>4</th>\n",
                            "      <td>1000</td>\n",
                            "      <td>30</td>\n",
                            "      <td>29</td>\n",
                            "      <td>male</td>\n",
                            "      <td>college</td>\n",
                            "    </tr>\n",
                            "  </tbody>\n",
                            "</table>\n",
                            "</div>"
                        ]
                    },
                    "metadata": {},
                    "execution_count": 70
                }
            ],
            "metadata": {}
        },
        {
            "cell_type": "code",
            "execution_count": 72,
            "source": [
                "#conveert categorical features to num \r\n",
                "data_x=pd.get_dummies(data_x,columns=['education'])\r\n",
                "x_test=pd.get_dummies(x_test,columns=['education'])"
            ],
            "outputs": [],
            "metadata": {}
        },
        {
            "cell_type": "code",
            "execution_count": 71,
            "source": [
                "from sklearn.preprocessing import LabelEncoder\r\n",
                "encoder=LabelEncoder()\r\n",
                "encoder.fit(['female','male'])\r\n",
                "data_x['Gender']=pd.Series(encoder.transform(data_x['Gender']))\r\n",
                "x_test['Gender']=pd.Series(encoder.transform(x_test['Gender']))\r\n"
            ],
            "outputs": [
                {
                    "output_type": "stream",
                    "name": "stderr",
                    "text": [
                        "C:\\Users\\muhmoud\\AppData\\Roaming\\Python\\Python36\\site-packages\\ipykernel_launcher.py:4: SettingWithCopyWarning: \n",
                        "A value is trying to be set on a copy of a slice from a DataFrame.\n",
                        "Try using .loc[row_indexer,col_indexer] = value instead\n",
                        "\n",
                        "See the caveats in the documentation: https://pandas.pydata.org/pandas-docs/stable/user_guide/indexing.html#returning-a-view-versus-a-copy\n",
                        "  after removing the cwd from sys.path.\n",
                        "C:\\Users\\muhmoud\\AppData\\Roaming\\Python\\Python36\\site-packages\\ipykernel_launcher.py:5: SettingWithCopyWarning: \n",
                        "A value is trying to be set on a copy of a slice from a DataFrame.\n",
                        "Try using .loc[row_indexer,col_indexer] = value instead\n",
                        "\n",
                        "See the caveats in the documentation: https://pandas.pydata.org/pandas-docs/stable/user_guide/indexing.html#returning-a-view-versus-a-copy\n",
                        "  \"\"\"\n"
                    ]
                }
            ],
            "metadata": {}
        },
        {
            "cell_type": "code",
            "execution_count": null,
            "source": [
                "#Scaling\r\n",
                "x=data_x.copy()\r\n",
                "x_t=x_test.copy()\r\n",
                "\r\n",
                "from sklearn.preprocessing import StandardScaler\r\n",
                "StandardScaler().fit(x).transform(x)\r\n",
                "StandardScaler().fit(x_).transform(x_)"
            ],
            "outputs": [],
            "metadata": {}
        },
        {
            "cell_type": "code",
            "execution_count": 64,
            "source": [
                "data_y.value_counts()"
            ],
            "outputs": [
                {
                    "output_type": "execute_result",
                    "data": {
                        "text/plain": [
                            "loan_status\n",
                            "PAIDOFF        260\n",
                            "COLLECTION      86\n",
                            "dtype: int64"
                        ]
                    },
                    "metadata": {},
                    "execution_count": 64
                }
            ],
            "metadata": {}
        },
        {
            "cell_type": "code",
            "execution_count": 77,
            "source": [
                "encodery=LabelEncoder()\r\n",
                "encodery.fit(['PAIDOFF','COLLECTION'])\r\n",
                "y=encodery.transform(data_y)\r\n",
                "y_t=encodery.transform(y_test)\r\n"
            ],
            "outputs": [
                {
                    "output_type": "stream",
                    "name": "stderr",
                    "text": [
                        "C:\\Users\\muhmoud\\AppData\\Local\\Programs\\Python\\Python36-32\\lib\\site-packages\\sklearn\\utils\\validation.py:63: DataConversionWarning: A column-vector y was passed when a 1d array was expected. Please change the shape of y to (n_samples, ), for example using ravel().\n",
                        "  return f(*args, **kwargs)\n"
                    ]
                }
            ],
            "metadata": {}
        },
        {
            "cell_type": "code",
            "execution_count": 68,
            "source": [
                "#K nearest neighbour \r\n",
                "from sklearn.neighbors import KNeighborsClassifier\r\n",
                " \r\n",
                "kn=KNeighborsClassifier(n_neighbors=2).fit(x, y)"
            ],
            "outputs": [],
            "metadata": {}
        },
        {
            "cell_type": "code",
            "execution_count": 69,
            "source": [
                "test_data.head()"
            ],
            "outputs": [
                {
                    "output_type": "execute_result",
                    "data": {
                        "text/plain": [
                            "   Unnamed: 0  Unnamed: 0.1 loan_status  Principal  terms effective_date  \\\n",
                            "0           1             1     PAIDOFF       1000     30       9/8/2016   \n",
                            "1           5             5     PAIDOFF        300      7       9/9/2016   \n",
                            "2          21            21     PAIDOFF       1000     30      9/10/2016   \n",
                            "3          24            24     PAIDOFF       1000     30      9/10/2016   \n",
                            "4          35            35     PAIDOFF        800     15      9/11/2016   \n",
                            "\n",
                            "    due_date  age             education  Gender  \n",
                            "0  10/7/2016   50              Bechalor  female  \n",
                            "1  9/15/2016   35       Master or Above    male  \n",
                            "2  10/9/2016   43  High School or Below  female  \n",
                            "3  10/9/2016   26               college    male  \n",
                            "4  9/25/2016   29              Bechalor    male  "
                        ],
                        "text/html": [
                            "<div>\n",
                            "<style scoped>\n",
                            "    .dataframe tbody tr th:only-of-type {\n",
                            "        vertical-align: middle;\n",
                            "    }\n",
                            "\n",
                            "    .dataframe tbody tr th {\n",
                            "        vertical-align: top;\n",
                            "    }\n",
                            "\n",
                            "    .dataframe thead th {\n",
                            "        text-align: right;\n",
                            "    }\n",
                            "</style>\n",
                            "<table border=\"1\" class=\"dataframe\">\n",
                            "  <thead>\n",
                            "    <tr style=\"text-align: right;\">\n",
                            "      <th></th>\n",
                            "      <th>Unnamed: 0</th>\n",
                            "      <th>Unnamed: 0.1</th>\n",
                            "      <th>loan_status</th>\n",
                            "      <th>Principal</th>\n",
                            "      <th>terms</th>\n",
                            "      <th>effective_date</th>\n",
                            "      <th>due_date</th>\n",
                            "      <th>age</th>\n",
                            "      <th>education</th>\n",
                            "      <th>Gender</th>\n",
                            "    </tr>\n",
                            "  </thead>\n",
                            "  <tbody>\n",
                            "    <tr>\n",
                            "      <th>0</th>\n",
                            "      <td>1</td>\n",
                            "      <td>1</td>\n",
                            "      <td>PAIDOFF</td>\n",
                            "      <td>1000</td>\n",
                            "      <td>30</td>\n",
                            "      <td>9/8/2016</td>\n",
                            "      <td>10/7/2016</td>\n",
                            "      <td>50</td>\n",
                            "      <td>Bechalor</td>\n",
                            "      <td>female</td>\n",
                            "    </tr>\n",
                            "    <tr>\n",
                            "      <th>1</th>\n",
                            "      <td>5</td>\n",
                            "      <td>5</td>\n",
                            "      <td>PAIDOFF</td>\n",
                            "      <td>300</td>\n",
                            "      <td>7</td>\n",
                            "      <td>9/9/2016</td>\n",
                            "      <td>9/15/2016</td>\n",
                            "      <td>35</td>\n",
                            "      <td>Master or Above</td>\n",
                            "      <td>male</td>\n",
                            "    </tr>\n",
                            "    <tr>\n",
                            "      <th>2</th>\n",
                            "      <td>21</td>\n",
                            "      <td>21</td>\n",
                            "      <td>PAIDOFF</td>\n",
                            "      <td>1000</td>\n",
                            "      <td>30</td>\n",
                            "      <td>9/10/2016</td>\n",
                            "      <td>10/9/2016</td>\n",
                            "      <td>43</td>\n",
                            "      <td>High School or Below</td>\n",
                            "      <td>female</td>\n",
                            "    </tr>\n",
                            "    <tr>\n",
                            "      <th>3</th>\n",
                            "      <td>24</td>\n",
                            "      <td>24</td>\n",
                            "      <td>PAIDOFF</td>\n",
                            "      <td>1000</td>\n",
                            "      <td>30</td>\n",
                            "      <td>9/10/2016</td>\n",
                            "      <td>10/9/2016</td>\n",
                            "      <td>26</td>\n",
                            "      <td>college</td>\n",
                            "      <td>male</td>\n",
                            "    </tr>\n",
                            "    <tr>\n",
                            "      <th>4</th>\n",
                            "      <td>35</td>\n",
                            "      <td>35</td>\n",
                            "      <td>PAIDOFF</td>\n",
                            "      <td>800</td>\n",
                            "      <td>15</td>\n",
                            "      <td>9/11/2016</td>\n",
                            "      <td>9/25/2016</td>\n",
                            "      <td>29</td>\n",
                            "      <td>Bechalor</td>\n",
                            "      <td>male</td>\n",
                            "    </tr>\n",
                            "  </tbody>\n",
                            "</table>\n",
                            "</div>"
                        ]
                    },
                    "metadata": {},
                    "execution_count": 69
                }
            ],
            "metadata": {}
        },
        {
            "cell_type": "code",
            "execution_count": 78,
            "source": [
                "#Predicting using Kn \r\n",
                "predict_y=kn.predict(x_t)\r\n"
            ],
            "outputs": [],
            "metadata": {}
        },
        {
            "cell_type": "code",
            "execution_count": 80,
            "source": [
                "from sklearn.metrics import jaccard_score\r\n",
                "from sklearn.metrics import f1_score\r\n",
                "from sklearn.metrics import log_loss\r\n"
            ],
            "outputs": [],
            "metadata": {}
        },
        {
            "cell_type": "code",
            "execution_count": 86,
            "source": [
                "jac=jaccard_score(y_t,predict_y)\r\n",
                "print(f\" the jaccard_score is : {jac}\")\r\n",
                "f1=f1_score(y_t,predict_y)\r\n",
                "print(f\" the F1 score  is : {f1}\")\r\n",
                "logloss=log_loss(y_t,predict_y)\r\n",
                "print(f\" the log_loss  score  is : {logloss}\")"
            ],
            "outputs": [
                {
                    "output_type": "stream",
                    "name": "stdout",
                    "text": [
                        " the jaccard_score is : 0.66\n",
                        " the F1 score  is : 0.7951807228915662\n",
                        " the log_loss  score  is : 10.87346656829229\n"
                    ]
                }
            ],
            "metadata": {}
        },
        {
            "cell_type": "code",
            "execution_count": 85,
            "source": [
                "\r\n"
            ],
            "outputs": [
                {
                    "output_type": "stream",
                    "name": "stdout",
                    "text": [
                        " the F1 score  is : 0.7951807228915662\n"
                    ]
                }
            ],
            "metadata": {}
        },
        {
            "cell_type": "code",
            "execution_count": null,
            "source": [],
            "outputs": [],
            "metadata": {}
        }
    ],
    "metadata": {
        "orig_nbformat": 4,
        "language_info": {
            "name": "python",
            "version": "3.6.5",
            "mimetype": "text/x-python",
            "codemirror_mode": {
                "name": "ipython",
                "version": 3
            },
            "pygments_lexer": "ipython3",
            "nbconvert_exporter": "python",
            "file_extension": ".py"
        },
        "kernelspec": {
            "name": "python3",
            "display_name": "Python 3.6.5 32-bit"
        },
        "interpreter": {
            "hash": "7fdebb4f4ab0288908a5614c20c0f8c166e650873fa8009b6146896b0fdd7ebb"
        }
    },
    "nbformat": 4,
    "nbformat_minor": 2
}