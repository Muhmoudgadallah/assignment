{
    "cells": [
        {
            "cell_type": "code",
            "execution_count": 6,
            "source": [
                "import matplotlib.pyplot as plt\r\n",
                "import pandas as pd\r\n",
                "import numpy as np\r\n",
                "%matplotlib inline\r\n",
                "#train data from (https://cf-courses-data.s3.us.cloud-object-storage.appdomain.cloud/IBMDeveloperSkillsNetwork-ML0101EN-SkillsNetwork/labs/FinalModule_Coursera/data/loan_train.csv)\r\n",
                "#test data from (https://s3-api.us-geo.objectstorage.softlayer.net/cf-courses-data/CognitiveClass/ML0101ENv3/labs/loan_test.csv)\r\n"
            ],
            "outputs": [],
            "metadata": {}
        },
        {
            "cell_type": "code",
            "execution_count": 7,
            "source": [
                "#importing datasets\r\n",
                "train_data=pd.read_csv('loan_train.csv')\r\n",
                "test_data=pd.read_csv('loan_test.csv')\r\n",
                "data_x = train_data[['Principal','terms','age','Gender','education']]\r\n",
                "data_y = train_data[['loan_status']]\r\n",
                "x_test = test_data[['Principal','terms','age','Gender','education']]\r\n",
                "y_test = test_data[['loan_status']]\r\n",
                "data_x.head()"
            ],
            "outputs": [
                {
                    "output_type": "execute_result",
                    "data": {
                        "text/plain": [
                            "   Principal  terms  age  Gender             education\n",
                            "0       1000     30   45    male  High School or Below\n",
                            "1       1000     30   33  female              Bechalor\n",
                            "2       1000     15   27    male               college\n",
                            "3       1000     30   28  female               college\n",
                            "4       1000     30   29    male               college"
                        ],
                        "text/html": [
                            "<div>\n",
                            "<style scoped>\n",
                            "    .dataframe tbody tr th:only-of-type {\n",
                            "        vertical-align: middle;\n",
                            "    }\n",
                            "\n",
                            "    .dataframe tbody tr th {\n",
                            "        vertical-align: top;\n",
                            "    }\n",
                            "\n",
                            "    .dataframe thead th {\n",
                            "        text-align: right;\n",
                            "    }\n",
                            "</style>\n",
                            "<table border=\"1\" class=\"dataframe\">\n",
                            "  <thead>\n",
                            "    <tr style=\"text-align: right;\">\n",
                            "      <th></th>\n",
                            "      <th>Principal</th>\n",
                            "      <th>terms</th>\n",
                            "      <th>age</th>\n",
                            "      <th>Gender</th>\n",
                            "      <th>education</th>\n",
                            "    </tr>\n",
                            "  </thead>\n",
                            "  <tbody>\n",
                            "    <tr>\n",
                            "      <th>0</th>\n",
                            "      <td>1000</td>\n",
                            "      <td>30</td>\n",
                            "      <td>45</td>\n",
                            "      <td>male</td>\n",
                            "      <td>High School or Below</td>\n",
                            "    </tr>\n",
                            "    <tr>\n",
                            "      <th>1</th>\n",
                            "      <td>1000</td>\n",
                            "      <td>30</td>\n",
                            "      <td>33</td>\n",
                            "      <td>female</td>\n",
                            "      <td>Bechalor</td>\n",
                            "    </tr>\n",
                            "    <tr>\n",
                            "      <th>2</th>\n",
                            "      <td>1000</td>\n",
                            "      <td>15</td>\n",
                            "      <td>27</td>\n",
                            "      <td>male</td>\n",
                            "      <td>college</td>\n",
                            "    </tr>\n",
                            "    <tr>\n",
                            "      <th>3</th>\n",
                            "      <td>1000</td>\n",
                            "      <td>30</td>\n",
                            "      <td>28</td>\n",
                            "      <td>female</td>\n",
                            "      <td>college</td>\n",
                            "    </tr>\n",
                            "    <tr>\n",
                            "      <th>4</th>\n",
                            "      <td>1000</td>\n",
                            "      <td>30</td>\n",
                            "      <td>29</td>\n",
                            "      <td>male</td>\n",
                            "      <td>college</td>\n",
                            "    </tr>\n",
                            "  </tbody>\n",
                            "</table>\n",
                            "</div>"
                        ]
                    },
                    "metadata": {},
                    "execution_count": 7
                }
            ],
            "metadata": {}
        },
        {
            "cell_type": "code",
            "execution_count": 8,
            "source": [
                "#conveert categorical features to num \r\n",
                "#1-One Hot encoding for non ordinal data \r\n",
                "data_x=pd.get_dummies(data_x,columns=['education'])\r\n",
                "x_test=pd.get_dummies(x_test,columns=['education'])"
            ],
            "outputs": [],
            "metadata": {}
        },
        {
            "cell_type": "code",
            "execution_count": 9,
            "source": [
                "#2-Label encoder for ordered data\r\n",
                "from sklearn.preprocessing import LabelEncoder\r\n",
                "encoder=LabelEncoder()\r\n",
                "encoder.fit(['female','male'])\r\n",
                "data_x['Gender']=pd.Series(encoder.transform(data_x['Gender']))\r\n",
                "x_test['Gender']=pd.Series(encoder.transform(x_test['Gender']))\r\n"
            ],
            "outputs": [],
            "metadata": {}
        },
        {
            "cell_type": "code",
            "execution_count": null,
            "source": [
                "#Scaling\r\n",
                "x=data_x.copy()\r\n",
                "x_t=x_test.copy()\r\n",
                "\r\n",
                "from sklearn.preprocessing import StandardScaler\r\n",
                "StandardScaler().fit(x).transform(x)\r\n",
                "StandardScaler().fit(x_t).transform(x_t)"
            ],
            "outputs": [],
            "metadata": {}
        },
        {
            "cell_type": "code",
            "execution_count": 11,
            "source": [
                "data_y.value_counts()"
            ],
            "outputs": [
                {
                    "output_type": "execute_result",
                    "data": {
                        "text/plain": [
                            "loan_status\n",
                            "PAIDOFF        260\n",
                            "COLLECTION      86\n",
                            "dtype: int64"
                        ]
                    },
                    "metadata": {},
                    "execution_count": 11
                }
            ],
            "metadata": {}
        },
        {
            "cell_type": "code",
            "execution_count": 12,
            "source": [
                "#Label encoder for both y train and test \r\n",
                "encodery=LabelEncoder()\r\n",
                "encodery.fit(['PAIDOFF','COLLECTION'])\r\n",
                "y=encodery.transform(data_y)\r\n",
                "y_t=encodery.transform(y_test)\r\n"
            ],
            "outputs": [
                {
                    "output_type": "stream",
                    "name": "stderr",
                    "text": [
                        "C:\\Users\\muhmoud\\AppData\\Local\\Programs\\Python\\Python36-32\\lib\\site-packages\\sklearn\\utils\\validation.py:63: DataConversionWarning: A column-vector y was passed when a 1d array was expected. Please change the shape of y to (n_samples, ), for example using ravel().\n",
                        "  return f(*args, **kwargs)\n"
                    ]
                }
            ],
            "metadata": {}
        },
        {
            "cell_type": "code",
            "execution_count": 13,
            "source": [
                "#K nearest neighbour \r\n",
                "from sklearn.neighbors import KNeighborsClassifier\r\n",
                " \r\n",
                "kn=KNeighborsClassifier(n_neighbors=2).fit(x, y)"
            ],
            "outputs": [],
            "metadata": {}
        },
        {
            "cell_type": "code",
            "execution_count": 14,
            "source": [
                "test_data.head()"
            ],
            "outputs": [
                {
                    "output_type": "execute_result",
                    "data": {
                        "text/plain": [
                            "   Unnamed: 0  Unnamed: 0.1 loan_status  Principal  terms effective_date  \\\n",
                            "0           1             1     PAIDOFF       1000     30       9/8/2016   \n",
                            "1           5             5     PAIDOFF        300      7       9/9/2016   \n",
                            "2          21            21     PAIDOFF       1000     30      9/10/2016   \n",
                            "3          24            24     PAIDOFF       1000     30      9/10/2016   \n",
                            "4          35            35     PAIDOFF        800     15      9/11/2016   \n",
                            "\n",
                            "    due_date  age             education  Gender  \n",
                            "0  10/7/2016   50              Bechalor  female  \n",
                            "1  9/15/2016   35       Master or Above    male  \n",
                            "2  10/9/2016   43  High School or Below  female  \n",
                            "3  10/9/2016   26               college    male  \n",
                            "4  9/25/2016   29              Bechalor    male  "
                        ],
                        "text/html": [
                            "<div>\n",
                            "<style scoped>\n",
                            "    .dataframe tbody tr th:only-of-type {\n",
                            "        vertical-align: middle;\n",
                            "    }\n",
                            "\n",
                            "    .dataframe tbody tr th {\n",
                            "        vertical-align: top;\n",
                            "    }\n",
                            "\n",
                            "    .dataframe thead th {\n",
                            "        text-align: right;\n",
                            "    }\n",
                            "</style>\n",
                            "<table border=\"1\" class=\"dataframe\">\n",
                            "  <thead>\n",
                            "    <tr style=\"text-align: right;\">\n",
                            "      <th></th>\n",
                            "      <th>Unnamed: 0</th>\n",
                            "      <th>Unnamed: 0.1</th>\n",
                            "      <th>loan_status</th>\n",
                            "      <th>Principal</th>\n",
                            "      <th>terms</th>\n",
                            "      <th>effective_date</th>\n",
                            "      <th>due_date</th>\n",
                            "      <th>age</th>\n",
                            "      <th>education</th>\n",
                            "      <th>Gender</th>\n",
                            "    </tr>\n",
                            "  </thead>\n",
                            "  <tbody>\n",
                            "    <tr>\n",
                            "      <th>0</th>\n",
                            "      <td>1</td>\n",
                            "      <td>1</td>\n",
                            "      <td>PAIDOFF</td>\n",
                            "      <td>1000</td>\n",
                            "      <td>30</td>\n",
                            "      <td>9/8/2016</td>\n",
                            "      <td>10/7/2016</td>\n",
                            "      <td>50</td>\n",
                            "      <td>Bechalor</td>\n",
                            "      <td>female</td>\n",
                            "    </tr>\n",
                            "    <tr>\n",
                            "      <th>1</th>\n",
                            "      <td>5</td>\n",
                            "      <td>5</td>\n",
                            "      <td>PAIDOFF</td>\n",
                            "      <td>300</td>\n",
                            "      <td>7</td>\n",
                            "      <td>9/9/2016</td>\n",
                            "      <td>9/15/2016</td>\n",
                            "      <td>35</td>\n",
                            "      <td>Master or Above</td>\n",
                            "      <td>male</td>\n",
                            "    </tr>\n",
                            "    <tr>\n",
                            "      <th>2</th>\n",
                            "      <td>21</td>\n",
                            "      <td>21</td>\n",
                            "      <td>PAIDOFF</td>\n",
                            "      <td>1000</td>\n",
                            "      <td>30</td>\n",
                            "      <td>9/10/2016</td>\n",
                            "      <td>10/9/2016</td>\n",
                            "      <td>43</td>\n",
                            "      <td>High School or Below</td>\n",
                            "      <td>female</td>\n",
                            "    </tr>\n",
                            "    <tr>\n",
                            "      <th>3</th>\n",
                            "      <td>24</td>\n",
                            "      <td>24</td>\n",
                            "      <td>PAIDOFF</td>\n",
                            "      <td>1000</td>\n",
                            "      <td>30</td>\n",
                            "      <td>9/10/2016</td>\n",
                            "      <td>10/9/2016</td>\n",
                            "      <td>26</td>\n",
                            "      <td>college</td>\n",
                            "      <td>male</td>\n",
                            "    </tr>\n",
                            "    <tr>\n",
                            "      <th>4</th>\n",
                            "      <td>35</td>\n",
                            "      <td>35</td>\n",
                            "      <td>PAIDOFF</td>\n",
                            "      <td>800</td>\n",
                            "      <td>15</td>\n",
                            "      <td>9/11/2016</td>\n",
                            "      <td>9/25/2016</td>\n",
                            "      <td>29</td>\n",
                            "      <td>Bechalor</td>\n",
                            "      <td>male</td>\n",
                            "    </tr>\n",
                            "  </tbody>\n",
                            "</table>\n",
                            "</div>"
                        ]
                    },
                    "metadata": {},
                    "execution_count": 14
                }
            ],
            "metadata": {}
        },
        {
            "cell_type": "markdown",
            "source": [
                "## K_nearest_neighbours"
            ],
            "metadata": {}
        },
        {
            "cell_type": "code",
            "execution_count": 15,
            "source": [
                "#Predicting using Kn \r\n",
                "predict_y=kn.predict(x_t)\r\n"
            ],
            "outputs": [],
            "metadata": {}
        },
        {
            "cell_type": "code",
            "execution_count": 16,
            "source": [
                "#Importing evaluation mertices \r\n",
                "from sklearn.metrics import jaccard_score\r\n",
                "from sklearn.metrics import f1_score\r\n",
                "from sklearn.metrics import log_loss\r\n"
            ],
            "outputs": [],
            "metadata": {}
        },
        {
            "cell_type": "code",
            "execution_count": 21,
            "source": [
                "#Evaluation of Kn\r\n",
                "jac=jaccard_score(y_t,predict_y)\r\n",
                "print(f\" the jaccard_score is : {jac}\")\r\n",
                "f1=f1_score(y_t,predict_y)\r\n",
                "print(f\" the F1 score  is : {f1}\")\r\n",
                "logloss=log_loss(y_t,predict_y)\r\n",
                "print(f\" the log_loss  score  is : {logloss}\")\r\n",
                "kn_evaluate=[jac,f1,logloss]"
            ],
            "outputs": [
                {
                    "output_type": "stream",
                    "name": "stdout",
                    "text": [
                        " the jaccard_score is : 0.66\n",
                        " the F1 score  is : 0.7951807228915662\n",
                        " the log_loss  score  is : 10.87346656829229\n"
                    ]
                }
            ],
            "metadata": {}
        },
        {
            "cell_type": "markdown",
            "source": [
                "# Decision Tree"
            ],
            "metadata": {}
        },
        {
            "cell_type": "code",
            "execution_count": 19,
            "source": [
                "from sklearn.tree import DecisionTreeClassifier\r\n",
                "tree=DecisionTreeClassifier(criterion=\"entropy\")\r\n",
                "tree.fit(x,y)\r\n",
                "ytree=tree.predict(x_t)\r\n",
                "\r\n",
                "#x,y for training data\r\n",
                "#x_t,y_t for test data"
            ],
            "outputs": [],
            "metadata": {}
        },
        {
            "cell_type": "code",
            "execution_count": 23,
            "source": [
                "#Evaluation of tree \r\n",
                "\r\n",
                "jactree=jaccard_score(y_t,ytree)\r\n",
                "print(f\" the jaccard_score is : {jactree}\")\r\n",
                "f1tree=f1_score(y_t,ytree)\r\n",
                "print(f\" the F1 score  is : {f1tree}\")\r\n",
                "loglosstree=log_loss(y_t,ytree)\r\n",
                "print(f\" the log_loss  score  is : {loglosstree}\")\r\n",
                "tree_evaluate=[jactree,f1tree,loglosstree]"
            ],
            "outputs": [
                {
                    "output_type": "stream",
                    "name": "stdout",
                    "text": [
                        " the jaccard_score is : 0.7058823529411765\n",
                        " the F1 score  is : 0.8275862068965516\n",
                        " the log_loss  score  is : 9.594267435099859\n"
                    ]
                }
            ],
            "metadata": {}
        },
        {
            "cell_type": "markdown",
            "source": [
                "#  <b><u>SVM</u></b>"
            ],
            "metadata": {}
        },
        {
            "cell_type": "code",
            "execution_count": 24,
            "source": [
                "from sklearn import svm\r\n",
                "svmodel=svm.SVC(kernel='sigmoid')\r\n",
                "svmodel.fit(x,y)\r\n",
                "ysvm=svmodel.predict(x_t)"
            ],
            "outputs": [],
            "metadata": {}
        },
        {
            "cell_type": "markdown",
            "source": [
                "### Evaluation of SVM "
            ],
            "metadata": {}
        },
        {
            "cell_type": "code",
            "execution_count": 25,
            "source": [
                "jacsvm=jaccard_score(y_t,ysvm)\r\n",
                "print(f\" the jaccard_score is : {jacsvm}\")\r\n",
                "f1svm=f1_score(y_t,ysvm)\r\n",
                "print(f\" the F1 score  is : {f1svm}\")\r\n",
                "loglosssvm=log_loss(y_t,ysvm)\r\n",
                "print(f\" the log_loss  score  is : {loglosssvm}\")\r\n",
                "svm_evaluate=[jacsvm,f1svm,loglosssvm]"
            ],
            "outputs": [
                {
                    "output_type": "stream",
                    "name": "stdout",
                    "text": [
                        " the jaccard_score is : 0.7407407407407407\n",
                        " the F1 score  is : 0.851063829787234\n",
                        " the log_loss  score  is : 8.95470488690319\n"
                    ]
                }
            ],
            "metadata": {}
        },
        {
            "cell_type": "markdown",
            "source": [
                "# Logistic Regression "
            ],
            "metadata": {}
        },
        {
            "cell_type": "code",
            "execution_count": 26,
            "source": [
                "from sklearn.linear_model import LogisticRegression\r\n",
                "log=LogisticRegression(solver='liblinear')\r\n",
                "log.fit(x,y)\r\n",
                "ylog=log.predict(x_t)"
            ],
            "outputs": [],
            "metadata": {}
        },
        {
            "cell_type": "markdown",
            "source": [
                "### Evaluation of logidtic regression"
            ],
            "metadata": {}
        },
        {
            "cell_type": "code",
            "execution_count": 32,
            "source": [
                "jaclog=jaccard_score(y_t,ylog)\r\n",
                "print(f\" the jaccard_score is : {jaclog}\")\r\n",
                "f1log=f1_score(y_t,ylog)\r\n",
                "print(f\" the F1 score  is : {f1log}\")\r\n",
                "loglosslog=log_loss(y_t,ylog)\r\n",
                "print(f\" the log_loss  score  is : {loglosslog}\")\r\n",
                "log_evaluate=[jaclog,f1log,loglosslog]"
            ],
            "outputs": [
                {
                    "output_type": "stream",
                    "name": "stdout",
                    "text": [
                        " the jaccard_score is : 0.7407407407407407\n",
                        " the F1 score  is : 0.851063829787234\n",
                        " the log_loss  score  is : 8.95470488690319\n"
                    ]
                }
            ],
            "metadata": {}
        },
        {
            "cell_type": "markdown",
            "source": [
                "# Report"
            ],
            "metadata": {}
        },
        {
            "cell_type": "code",
            "execution_count": 31,
            "source": [
                "report=pd.DataFrame({\"K_nearest\":kn_evaluate,\"Decision tree\":tree_evaluate,\"SVM\":svm_evaluate,\"Logistic regression\":log_evaluate},index=[\"jaccard_score\",\"f1_score\",\"log_loss\"])\r\n",
                "report"
            ],
            "outputs": [
                {
                    "output_type": "execute_result",
                    "data": {
                        "text/plain": [
                            "               K_nearest  Decision tree       SVM  Logistic regression\n",
                            "jaccard_score   0.660000       0.705882  0.740741             0.740741\n",
                            "f1_score        0.795181       0.827586  0.851064             0.851064\n",
                            "log_loss       10.873467       9.594267  8.954705             8.954705"
                        ],
                        "text/html": [
                            "<div>\n",
                            "<style scoped>\n",
                            "    .dataframe tbody tr th:only-of-type {\n",
                            "        vertical-align: middle;\n",
                            "    }\n",
                            "\n",
                            "    .dataframe tbody tr th {\n",
                            "        vertical-align: top;\n",
                            "    }\n",
                            "\n",
                            "    .dataframe thead th {\n",
                            "        text-align: right;\n",
                            "    }\n",
                            "</style>\n",
                            "<table border=\"1\" class=\"dataframe\">\n",
                            "  <thead>\n",
                            "    <tr style=\"text-align: right;\">\n",
                            "      <th></th>\n",
                            "      <th>K_nearest</th>\n",
                            "      <th>Decision tree</th>\n",
                            "      <th>SVM</th>\n",
                            "      <th>Logistic regression</th>\n",
                            "    </tr>\n",
                            "  </thead>\n",
                            "  <tbody>\n",
                            "    <tr>\n",
                            "      <th>jaccard_score</th>\n",
                            "      <td>0.660000</td>\n",
                            "      <td>0.705882</td>\n",
                            "      <td>0.740741</td>\n",
                            "      <td>0.740741</td>\n",
                            "    </tr>\n",
                            "    <tr>\n",
                            "      <th>f1_score</th>\n",
                            "      <td>0.795181</td>\n",
                            "      <td>0.827586</td>\n",
                            "      <td>0.851064</td>\n",
                            "      <td>0.851064</td>\n",
                            "    </tr>\n",
                            "    <tr>\n",
                            "      <th>log_loss</th>\n",
                            "      <td>10.873467</td>\n",
                            "      <td>9.594267</td>\n",
                            "      <td>8.954705</td>\n",
                            "      <td>8.954705</td>\n",
                            "    </tr>\n",
                            "  </tbody>\n",
                            "</table>\n",
                            "</div>"
                        ]
                    },
                    "metadata": {},
                    "execution_count": 31
                }
            ],
            "metadata": {}
        }
    ],
    "metadata": {
        "orig_nbformat": 4,
        "language_info": {
            "name": "python",
            "version": "3.6.5",
            "mimetype": "text/x-python",
            "codemirror_mode": {
                "name": "ipython",
                "version": 3
            },
            "pygments_lexer": "ipython3",
            "nbconvert_exporter": "python",
            "file_extension": ".py"
        },
        "kernelspec": {
            "name": "python3",
            "display_name": "Python 3.6.5 32-bit"
        },
        "interpreter": {
            "hash": "7fdebb4f4ab0288908a5614c20c0f8c166e650873fa8009b6146896b0fdd7ebb"
        }
    },
    "nbformat": 4,
    "nbformat_minor": 2
}